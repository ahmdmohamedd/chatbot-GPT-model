{
 "cells": [
  {
   "cell_type": "code",
   "execution_count": 1,
   "id": "02daf8ea-0e7e-41ac-9809-6d0162647e16",
   "metadata": {},
   "outputs": [
    {
     "name": "stderr",
     "output_type": "stream",
     "text": [
      "C:\\Users\\ahmed\\anaconda3\\envs\\neuralnetwork\\lib\\site-packages\\transformers\\utils\\generic.py:441: FutureWarning: `torch.utils._pytree._register_pytree_node` is deprecated. Please use `torch.utils._pytree.register_pytree_node` instead.\n",
      "  _torch_pytree._register_pytree_node(\n",
      "C:\\Users\\ahmed\\anaconda3\\envs\\neuralnetwork\\lib\\site-packages\\transformers\\utils\\generic.py:309: FutureWarning: `torch.utils._pytree._register_pytree_node` is deprecated. Please use `torch.utils._pytree.register_pytree_node` instead.\n",
      "  _torch_pytree._register_pytree_node(\n",
      "C:\\Users\\ahmed\\anaconda3\\envs\\neuralnetwork\\lib\\site-packages\\transformers\\utils\\generic.py:309: FutureWarning: `torch.utils._pytree._register_pytree_node` is deprecated. Please use `torch.utils._pytree.register_pytree_node` instead.\n",
      "  _torch_pytree._register_pytree_node(\n",
      "C:\\Users\\ahmed\\anaconda3\\envs\\neuralnetwork\\lib\\site-packages\\huggingface_hub\\file_download.py:797: FutureWarning: `resume_download` is deprecated and will be removed in version 1.0.0. Downloads always resume when possible. If you want to force a new download, use `force_download=True`.\n",
      "  warnings.warn(\n"
     ]
    }
   ],
   "source": [
    "from transformers import GPT2LMHeadModel, GPT2Tokenizer\n",
    "\n",
    "# Load GPT-2 model and tokenizer\n",
    "model_name = \"gpt2\"  # Use \"gpt2\" for the base model or \"gpt-2-medium\" for larger models\n",
    "model = GPT2LMHeadModel.from_pretrained(model_name)\n",
    "tokenizer = GPT2Tokenizer.from_pretrained(model_name)"
   ]
  },
  {
   "cell_type": "code",
   "execution_count": 2,
   "id": "1085e088-c5bf-43da-af7d-78b133f8e788",
   "metadata": {},
   "outputs": [
    {
     "name": "stderr",
     "output_type": "stream",
     "text": [
      "The attention mask and the pad token id were not set. As a consequence, you may observe unexpected behavior. Please pass your input's `attention_mask` to obtain reliable results.\n",
      "Setting `pad_token_id` to `eos_token_id`:50256 for open-end generation.\n"
     ]
    },
    {
     "name": "stdout",
     "output_type": "stream",
     "text": [
      "Tell me a story about a futuristic robot.\n",
      "\n",
      "I'm not sure what you mean by \"future.\" I mean, I'm not sure what you mean by \"future.\" I mean, I'm not sure what you mean by \"future.\" I mean, I'm not sure what you mean by \"future.\" I mean, I'm not sure what you mean by \"future.\" I mean, I'm not sure what you mean by \"future.\" I mean, I'm not sure what\n"
     ]
    }
   ],
   "source": [
    "def generate_response(prompt, max_length=100):\n",
    "    # Encode the prompt text to tensor\n",
    "    input_text = tokenizer.encode(prompt, return_tensors=\"pt\")\n",
    "    \n",
    "    # Generate a response\n",
    "    output = model.generate(input_text, max_length=max_length, num_return_sequences=1)\n",
    "    \n",
    "    # Decode the generated tokens back to text\n",
    "    response = tokenizer.decode(output[0], skip_special_tokens=True)\n",
    "    return response\n",
    "\n",
    "# Test the chatbot\n",
    "prompt = \"Tell me a story about a futuristic robot.\"\n",
    "response = generate_response(prompt)\n",
    "print(response)"
   ]
  }
 ],
 "metadata": {
  "kernelspec": {
   "display_name": "Python 3 (ipykernel)",
   "language": "python",
   "name": "python3"
  },
  "language_info": {
   "codemirror_mode": {
    "name": "ipython",
    "version": 3
   },
   "file_extension": ".py",
   "mimetype": "text/x-python",
   "name": "python",
   "nbconvert_exporter": "python",
   "pygments_lexer": "ipython3",
   "version": "3.9.18"
  }
 },
 "nbformat": 4,
 "nbformat_minor": 5
}
