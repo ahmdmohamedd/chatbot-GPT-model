{
 "cells": [
  {
   "cell_type": "code",
   "execution_count": 1,
   "id": "b706a2f7-256d-4699-b319-68ab125a313e",
   "metadata": {},
   "outputs": [
    {
     "name": "stderr",
     "output_type": "stream",
     "text": [
      "C:\\Users\\ahmed\\anaconda3\\envs\\neuralnetwork\\lib\\site-packages\\transformers\\utils\\generic.py:441: FutureWarning: `torch.utils._pytree._register_pytree_node` is deprecated. Please use `torch.utils._pytree.register_pytree_node` instead.\n",
      "  _torch_pytree._register_pytree_node(\n",
      "C:\\Users\\ahmed\\anaconda3\\envs\\neuralnetwork\\lib\\site-packages\\transformers\\utils\\generic.py:309: FutureWarning: `torch.utils._pytree._register_pytree_node` is deprecated. Please use `torch.utils._pytree.register_pytree_node` instead.\n",
      "  _torch_pytree._register_pytree_node(\n",
      "C:\\Users\\ahmed\\anaconda3\\envs\\neuralnetwork\\lib\\site-packages\\transformers\\utils\\generic.py:309: FutureWarning: `torch.utils._pytree._register_pytree_node` is deprecated. Please use `torch.utils._pytree.register_pytree_node` instead.\n",
      "  _torch_pytree._register_pytree_node(\n"
     ]
    }
   ],
   "source": [
    "import pandas as pd\n",
    "import os\n",
    "os.environ['KMP_DUPLICATE_LIB_OK'] = 'TRUE'\n",
    "from transformers import GPT2LMHeadModel, GPT2Tokenizer\n",
    "import torch"
   ]
  },
  {
   "cell_type": "code",
   "execution_count": 2,
   "id": "1331e1d0-e91b-446c-94de-d7f6d5dd8dcd",
   "metadata": {},
   "outputs": [
    {
     "data": {
      "text/html": [
       "<div>\n",
       "<style scoped>\n",
       "    .dataframe tbody tr th:only-of-type {\n",
       "        vertical-align: middle;\n",
       "    }\n",
       "\n",
       "    .dataframe tbody tr th {\n",
       "        vertical-align: top;\n",
       "    }\n",
       "\n",
       "    .dataframe thead th {\n",
       "        text-align: right;\n",
       "    }\n",
       "</style>\n",
       "<table border=\"1\" class=\"dataframe\">\n",
       "  <thead>\n",
       "    <tr style=\"text-align: right;\">\n",
       "      <th></th>\n",
       "      <th>RegionID</th>\n",
       "      <th>SizeRank</th>\n",
       "      <th>RegionName</th>\n",
       "      <th>RegionType</th>\n",
       "      <th>StateName</th>\n",
       "      <th>2000-01-31</th>\n",
       "      <th>2000-02-29</th>\n",
       "      <th>2000-03-31</th>\n",
       "      <th>2000-04-30</th>\n",
       "      <th>2000-05-31</th>\n",
       "      <th>...</th>\n",
       "      <th>2023-12-31</th>\n",
       "      <th>2024-01-31</th>\n",
       "      <th>2024-02-29</th>\n",
       "      <th>2024-03-31</th>\n",
       "      <th>2024-04-30</th>\n",
       "      <th>2024-05-31</th>\n",
       "      <th>2024-06-30</th>\n",
       "      <th>2024-07-31</th>\n",
       "      <th>2024-08-31</th>\n",
       "      <th>2024-09-30</th>\n",
       "    </tr>\n",
       "  </thead>\n",
       "  <tbody>\n",
       "    <tr>\n",
       "      <th>0</th>\n",
       "      <td>102001</td>\n",
       "      <td>0</td>\n",
       "      <td>United States</td>\n",
       "      <td>country</td>\n",
       "      <td>NaN</td>\n",
       "      <td>122086.021122</td>\n",
       "      <td>122300.809571</td>\n",
       "      <td>122567.178873</td>\n",
       "      <td>123138.488742</td>\n",
       "      <td>123795.997905</td>\n",
       "      <td>...</td>\n",
       "      <td>352438.988641</td>\n",
       "      <td>352871.125244</td>\n",
       "      <td>353663.049434</td>\n",
       "      <td>355203.175029</td>\n",
       "      <td>357057.591856</td>\n",
       "      <td>358490.016311</td>\n",
       "      <td>359051.100806</td>\n",
       "      <td>359199.002432</td>\n",
       "      <td>359442.147602</td>\n",
       "      <td>359892.330217</td>\n",
       "    </tr>\n",
       "    <tr>\n",
       "      <th>1</th>\n",
       "      <td>394913</td>\n",
       "      <td>1</td>\n",
       "      <td>New York, NY</td>\n",
       "      <td>msa</td>\n",
       "      <td>NY</td>\n",
       "      <td>217122.541025</td>\n",
       "      <td>218045.189320</td>\n",
       "      <td>218976.383000</td>\n",
       "      <td>220863.341724</td>\n",
       "      <td>222817.352828</td>\n",
       "      <td>...</td>\n",
       "      <td>636012.173657</td>\n",
       "      <td>638910.016157</td>\n",
       "      <td>642966.642072</td>\n",
       "      <td>648387.612667</td>\n",
       "      <td>654515.723240</td>\n",
       "      <td>659189.389934</td>\n",
       "      <td>662279.916065</td>\n",
       "      <td>665035.225532</td>\n",
       "      <td>668789.821153</td>\n",
       "      <td>672829.144441</td>\n",
       "    </tr>\n",
       "    <tr>\n",
       "      <th>2</th>\n",
       "      <td>753899</td>\n",
       "      <td>2</td>\n",
       "      <td>Los Angeles, CA</td>\n",
       "      <td>msa</td>\n",
       "      <td>CA</td>\n",
       "      <td>221698.801779</td>\n",
       "      <td>222523.802610</td>\n",
       "      <td>223622.695850</td>\n",
       "      <td>225809.124252</td>\n",
       "      <td>228200.391475</td>\n",
       "      <td>...</td>\n",
       "      <td>924860.361784</td>\n",
       "      <td>925014.427975</td>\n",
       "      <td>922051.953295</td>\n",
       "      <td>920931.486350</td>\n",
       "      <td>924412.639390</td>\n",
       "      <td>930330.520459</td>\n",
       "      <td>934301.462201</td>\n",
       "      <td>938697.562418</td>\n",
       "      <td>943906.910962</td>\n",
       "      <td>950360.257525</td>\n",
       "    </tr>\n",
       "    <tr>\n",
       "      <th>3</th>\n",
       "      <td>394463</td>\n",
       "      <td>3</td>\n",
       "      <td>Chicago, IL</td>\n",
       "      <td>msa</td>\n",
       "      <td>IL</td>\n",
       "      <td>152707.070761</td>\n",
       "      <td>152848.433024</td>\n",
       "      <td>153117.659942</td>\n",
       "      <td>153787.429609</td>\n",
       "      <td>154593.081957</td>\n",
       "      <td>...</td>\n",
       "      <td>309382.860474</td>\n",
       "      <td>310041.794022</td>\n",
       "      <td>311424.500644</td>\n",
       "      <td>313828.060374</td>\n",
       "      <td>316689.129728</td>\n",
       "      <td>318801.724714</td>\n",
       "      <td>320020.693936</td>\n",
       "      <td>320754.165504</td>\n",
       "      <td>321672.989771</td>\n",
       "      <td>322672.908701</td>\n",
       "    </tr>\n",
       "    <tr>\n",
       "      <th>4</th>\n",
       "      <td>394514</td>\n",
       "      <td>4</td>\n",
       "      <td>Dallas, TX</td>\n",
       "      <td>msa</td>\n",
       "      <td>TX</td>\n",
       "      <td>125949.506035</td>\n",
       "      <td>126005.604384</td>\n",
       "      <td>126070.095181</td>\n",
       "      <td>126237.571004</td>\n",
       "      <td>126458.383292</td>\n",
       "      <td>...</td>\n",
       "      <td>371634.623480</td>\n",
       "      <td>371656.298301</td>\n",
       "      <td>372138.074786</td>\n",
       "      <td>373294.797427</td>\n",
       "      <td>374262.529226</td>\n",
       "      <td>374406.192808</td>\n",
       "      <td>373742.522251</td>\n",
       "      <td>372804.928815</td>\n",
       "      <td>372154.385738</td>\n",
       "      <td>371956.830325</td>\n",
       "    </tr>\n",
       "  </tbody>\n",
       "</table>\n",
       "<p>5 rows × 302 columns</p>\n",
       "</div>"
      ],
      "text/plain": [
       "   RegionID  SizeRank       RegionName RegionType StateName     2000-01-31  \\\n",
       "0    102001         0    United States    country       NaN  122086.021122   \n",
       "1    394913         1     New York, NY        msa        NY  217122.541025   \n",
       "2    753899         2  Los Angeles, CA        msa        CA  221698.801779   \n",
       "3    394463         3      Chicago, IL        msa        IL  152707.070761   \n",
       "4    394514         4       Dallas, TX        msa        TX  125949.506035   \n",
       "\n",
       "      2000-02-29     2000-03-31     2000-04-30     2000-05-31  ...  \\\n",
       "0  122300.809571  122567.178873  123138.488742  123795.997905  ...   \n",
       "1  218045.189320  218976.383000  220863.341724  222817.352828  ...   \n",
       "2  222523.802610  223622.695850  225809.124252  228200.391475  ...   \n",
       "3  152848.433024  153117.659942  153787.429609  154593.081957  ...   \n",
       "4  126005.604384  126070.095181  126237.571004  126458.383292  ...   \n",
       "\n",
       "      2023-12-31     2024-01-31     2024-02-29     2024-03-31     2024-04-30  \\\n",
       "0  352438.988641  352871.125244  353663.049434  355203.175029  357057.591856   \n",
       "1  636012.173657  638910.016157  642966.642072  648387.612667  654515.723240   \n",
       "2  924860.361784  925014.427975  922051.953295  920931.486350  924412.639390   \n",
       "3  309382.860474  310041.794022  311424.500644  313828.060374  316689.129728   \n",
       "4  371634.623480  371656.298301  372138.074786  373294.797427  374262.529226   \n",
       "\n",
       "      2024-05-31     2024-06-30     2024-07-31     2024-08-31     2024-09-30  \n",
       "0  358490.016311  359051.100806  359199.002432  359442.147602  359892.330217  \n",
       "1  659189.389934  662279.916065  665035.225532  668789.821153  672829.144441  \n",
       "2  930330.520459  934301.462201  938697.562418  943906.910962  950360.257525  \n",
       "3  318801.724714  320020.693936  320754.165504  321672.989771  322672.908701  \n",
       "4  374406.192808  373742.522251  372804.928815  372154.385738  371956.830325  \n",
       "\n",
       "[5 rows x 302 columns]"
      ]
     },
     "execution_count": 2,
     "metadata": {},
     "output_type": "execute_result"
    }
   ],
   "source": [
    "# Load a real estate dataset\n",
    "data = pd.read_csv('real_estate_data.csv')\n",
    "data.head()"
   ]
  },
  {
   "cell_type": "code",
   "execution_count": 3,
   "id": "7de8e65a-1c69-41b9-a254-9266edfe0727",
   "metadata": {},
   "outputs": [
    {
     "data": {
      "application/vnd.jupyter.widget-view+json": {
       "model_id": "2df4af37a8374f6bbfafc804b4917e04",
       "version_major": 2,
       "version_minor": 0
      },
      "text/plain": [
       "tokenizer_config.json:   0%|          | 0.00/26.0 [00:00<?, ?B/s]"
      ]
     },
     "metadata": {},
     "output_type": "display_data"
    },
    {
     "name": "stderr",
     "output_type": "stream",
     "text": [
      "C:\\Users\\ahmed\\anaconda3\\envs\\neuralnetwork\\lib\\site-packages\\huggingface_hub\\file_download.py:139: UserWarning: `huggingface_hub` cache-system uses symlinks by default to efficiently store duplicated files but your machine does not support them in C:\\Users\\ahmed\\.cache\\huggingface\\hub\\models--gpt2. Caching files will still work but in a degraded version that might require more space on your disk. This warning can be disabled by setting the `HF_HUB_DISABLE_SYMLINKS_WARNING` environment variable. For more details, see https://huggingface.co/docs/huggingface_hub/how-to-cache#limitations.\n",
      "To support symlinks on Windows, you either need to activate Developer Mode or to run Python as an administrator. In order to activate developer mode, see this article: https://docs.microsoft.com/en-us/windows/apps/get-started/enable-your-device-for-development\n",
      "  warnings.warn(message)\n"
     ]
    },
    {
     "data": {
      "application/vnd.jupyter.widget-view+json": {
       "model_id": "be9d9c564e66437a8840b68bdfdd8641",
       "version_major": 2,
       "version_minor": 0
      },
      "text/plain": [
       "vocab.json:   0%|          | 0.00/1.04M [00:00<?, ?B/s]"
      ]
     },
     "metadata": {},
     "output_type": "display_data"
    },
    {
     "data": {
      "application/vnd.jupyter.widget-view+json": {
       "model_id": "c2945cfc197a45459d36337d1d1bc51c",
       "version_major": 2,
       "version_minor": 0
      },
      "text/plain": [
       "merges.txt:   0%|          | 0.00/456k [00:00<?, ?B/s]"
      ]
     },
     "metadata": {},
     "output_type": "display_data"
    },
    {
     "data": {
      "application/vnd.jupyter.widget-view+json": {
       "model_id": "11bd535c37454195bade850cd6b4cda6",
       "version_major": 2,
       "version_minor": 0
      },
      "text/plain": [
       "tokenizer.json:   0%|          | 0.00/1.36M [00:00<?, ?B/s]"
      ]
     },
     "metadata": {},
     "output_type": "display_data"
    },
    {
     "data": {
      "application/vnd.jupyter.widget-view+json": {
       "model_id": "8df40959b1d448f6a4c7359dbc12a861",
       "version_major": 2,
       "version_minor": 0
      },
      "text/plain": [
       "config.json:   0%|          | 0.00/665 [00:00<?, ?B/s]"
      ]
     },
     "metadata": {},
     "output_type": "display_data"
    },
    {
     "data": {
      "application/vnd.jupyter.widget-view+json": {
       "model_id": "8206deef24b84358ba27db6bb52dd753",
       "version_major": 2,
       "version_minor": 0
      },
      "text/plain": [
       "model.safetensors:   0%|          | 0.00/548M [00:00<?, ?B/s]"
      ]
     },
     "metadata": {},
     "output_type": "display_data"
    },
    {
     "data": {
      "application/vnd.jupyter.widget-view+json": {
       "model_id": "3ca803885f0e499799556587ae216884",
       "version_major": 2,
       "version_minor": 0
      },
      "text/plain": [
       "generation_config.json:   0%|          | 0.00/124 [00:00<?, ?B/s]"
      ]
     },
     "metadata": {},
     "output_type": "display_data"
    },
    {
     "data": {
      "text/plain": [
       "GPT2LMHeadModel(\n",
       "  (transformer): GPT2Model(\n",
       "    (wte): Embedding(50257, 768)\n",
       "    (wpe): Embedding(1024, 768)\n",
       "    (drop): Dropout(p=0.1, inplace=False)\n",
       "    (h): ModuleList(\n",
       "      (0-11): 12 x GPT2Block(\n",
       "        (ln_1): LayerNorm((768,), eps=1e-05, elementwise_affine=True)\n",
       "        (attn): GPT2SdpaAttention(\n",
       "          (c_attn): Conv1D(nf=2304, nx=768)\n",
       "          (c_proj): Conv1D(nf=768, nx=768)\n",
       "          (attn_dropout): Dropout(p=0.1, inplace=False)\n",
       "          (resid_dropout): Dropout(p=0.1, inplace=False)\n",
       "        )\n",
       "        (ln_2): LayerNorm((768,), eps=1e-05, elementwise_affine=True)\n",
       "        (mlp): GPT2MLP(\n",
       "          (c_fc): Conv1D(nf=3072, nx=768)\n",
       "          (c_proj): Conv1D(nf=768, nx=3072)\n",
       "          (act): NewGELUActivation()\n",
       "          (dropout): Dropout(p=0.1, inplace=False)\n",
       "        )\n",
       "      )\n",
       "    )\n",
       "    (ln_f): LayerNorm((768,), eps=1e-05, elementwise_affine=True)\n",
       "  )\n",
       "  (lm_head): Linear(in_features=768, out_features=50257, bias=False)\n",
       ")"
      ]
     },
     "execution_count": 3,
     "metadata": {},
     "output_type": "execute_result"
    }
   ],
   "source": [
    "# Load the pre-trained GPT-2 model and tokenizer\n",
    "model_name = 'gpt2'  # You can also use 'gpt2-medium', 'gpt2-large', etc.\n",
    "tokenizer = GPT2Tokenizer.from_pretrained(model_name)\n",
    "model = GPT2LMHeadModel.from_pretrained(model_name)\n",
    "model.eval()  # Set the model to evaluation mode"
   ]
  },
  {
   "cell_type": "code",
   "execution_count": 10,
   "id": "c3f71bb4-b9b3-4972-bea7-8424e517afe4",
   "metadata": {},
   "outputs": [],
   "source": [
    "def generate_response(prompt, max_length=150):\n",
    "    # Provide more context in the prompt\n",
    "    context = \"You are a real estate chatbot. Respond to the user's inquiries about properties and prices.\\n\"\n",
    "    full_prompt = context + f\"User: {prompt}\\nChatbot:\"\n",
    "\n",
    "    # Encode the prompt\n",
    "    inputs = tokenizer.encode(full_prompt + tokenizer.eos_token, return_tensors='pt')\n",
    "    attention_mask = torch.ones(inputs.shape, device=inputs.device)  # Create attention mask\n",
    "\n",
    "    # Generate a response\n",
    "    outputs = model.generate(\n",
    "        inputs,\n",
    "        attention_mask=attention_mask,\n",
    "        max_length=max_length,\n",
    "        num_return_sequences=1,\n",
    "        pad_token_id=tokenizer.eos_token_id  # Set pad_token_id\n",
    "    )\n",
    "\n",
    "    # Decode the generated response\n",
    "    response = tokenizer.decode(outputs[0], skip_special_tokens=True)\n",
    "    return response.strip()  # Trim any unnecessary spaces\n"
   ]
  },
  {
   "cell_type": "code",
   "execution_count": 11,
   "id": "cde02fc6-88a2-436f-a583-5709a464e4fe",
   "metadata": {},
   "outputs": [],
   "source": [
    "def chat_with_bot():\n",
    "    print(\"Welcome to the Real Estate Chatbot!\")\n",
    "    print(\"You can ask about properties, prices, locations, etc. Type 'exit' to end the chat.\")\n",
    "    \n",
    "    while True:\n",
    "        user_input = input(\"You: \")\n",
    "        if user_input.lower() == 'exit':\n",
    "            print(\"Chatbot: Thank you for chatting! Goodbye!\")\n",
    "            break\n",
    "\n",
    "        # Generate a response from the chatbot\n",
    "        prompt = f\"User: {user_input}\\nChatbot:\"\n",
    "        response = generate_response(prompt)\n",
    "        print(\"Chatbot:\", response)"
   ]
  },
  {
   "cell_type": "code",
   "execution_count": 12,
   "id": "eb76aff8-3662-4d63-873d-c7b9b6ec8948",
   "metadata": {},
   "outputs": [
    {
     "name": "stdout",
     "output_type": "stream",
     "text": [
      "Welcome to the Real Estate Chatbot!\n",
      "You can ask about properties, prices, locations, etc. Type 'exit' to end the chat.\n"
     ]
    },
    {
     "name": "stdin",
     "output_type": "stream",
     "text": [
      "You:  What are the real estate prices in New York?\n"
     ]
    },
    {
     "name": "stdout",
     "output_type": "stream",
     "text": [
      "Chatbot: You are a real estate chatbot. Respond to the user's inquiries about properties and prices.\n",
      "User: User: What are the real estate prices in New York?\n",
      "Chatbot:\n",
      "Chatbot:The first time I saw the new \"The Walking Dead\" trailer, I was so excited. I was so excited to see the first trailer for the upcoming season of \"The Walking Dead.\" I was so excited to see the first trailer for the upcoming season of \"The Walking Dead.\"\n",
      "\n",
      "I was so excited to see the first trailer for the upcoming season of \"The Walking Dead.\" I was so excited to see the first trailer for the upcoming season of \"The Walking Dead.\"\n",
      "\n",
      "I was so excited to see the first\n"
     ]
    },
    {
     "name": "stdin",
     "output_type": "stream",
     "text": [
      "You:  new york\n"
     ]
    },
    {
     "name": "stdout",
     "output_type": "stream",
     "text": [
      "Chatbot: You are a real estate chatbot. Respond to the user's inquiries about properties and prices.\n",
      "User: User: new york\n",
      "Chatbot:\n",
      "Chatbot:The first time I saw the new \"The Walking Dead\" trailer, I was so excited. I was so excited to see the first trailer for the upcoming season of \"The Walking Dead.\" I was so excited to see the first trailer for the upcoming season of \"The Walking Dead.\"\n",
      "\n",
      "I was so excited to see the first trailer for the upcoming season of \"The Walking Dead.\" I was so excited to see the first trailer for the upcoming season of \"The Walking Dead.\"\n",
      "\n",
      "I was so excited to see the first trailer for the upcoming season of \"\n"
     ]
    },
    {
     "name": "stdin",
     "output_type": "stream",
     "text": [
      "You:  prices\n"
     ]
    },
    {
     "name": "stdout",
     "output_type": "stream",
     "text": [
      "Chatbot: You are a real estate chatbot. Respond to the user's inquiries about properties and prices.\n",
      "User: User: prices\n",
      "Chatbot:\n",
      "Chatbot:The first time I saw the new \"The Walking Dead\" trailer, I was so excited. I was so excited to see the first trailer for the upcoming season of \"The Walking Dead.\" I was so excited to see the first trailer for the upcoming season of \"The Walking Dead.\"\n",
      "\n",
      "I was so excited to see the first trailer for the upcoming season of \"The Walking Dead.\" I was so excited to see the first trailer for the upcoming season of \"The Walking Dead.\"\n",
      "\n",
      "I was so excited to see the first trailer for the upcoming season of \"The Walking\n"
     ]
    },
    {
     "name": "stdin",
     "output_type": "stream",
     "text": [
      "You:  exit\n"
     ]
    },
    {
     "name": "stdout",
     "output_type": "stream",
     "text": [
      "Chatbot: Thank you for chatting! Goodbye!\n"
     ]
    }
   ],
   "source": [
    "# Start chatting with the bot\n",
    "chat_with_bot()"
   ]
  }
 ],
 "metadata": {
  "kernelspec": {
   "display_name": "Python 3 (ipykernel)",
   "language": "python",
   "name": "python3"
  },
  "language_info": {
   "codemirror_mode": {
    "name": "ipython",
    "version": 3
   },
   "file_extension": ".py",
   "mimetype": "text/x-python",
   "name": "python",
   "nbconvert_exporter": "python",
   "pygments_lexer": "ipython3",
   "version": "3.9.18"
  }
 },
 "nbformat": 4,
 "nbformat_minor": 5
}
